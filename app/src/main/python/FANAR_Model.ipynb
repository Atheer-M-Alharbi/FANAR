{
 "cells": [
  {
   "cell_type": "code",
   "execution_count": 6,
   "id": "supported-drove",
   "metadata": {},
   "outputs": [],
   "source": [
    "# imports needed libraries\n",
    "import pandas as pd\n",
    "import numpy as nb\n",
    "import seaborn as sns\n",
    "from sklearn.model_selection import * \n",
    "from sklearn.feature_selection import RFE\n",
    "from sklearn.metrics import * \n",
    "from sklearn.tree import DecisionTreeClassifier\n",
    "from sklearn import tree  \n",
    " \n",
    "\n",
    "def main(AutsmLevel, IqLevel, age, Perception):\n",
    "    # read the dataset into a dataframe\n",
    "    dataset=pd.read_csv(\"C:/Users/aaaaa/Desktop/FANAR_dataset - EDUCATIONAL_FIN.csv\",delimiter=\",\")\n",
    "    dataset = dataset.sample(frac = 1) \n",
    "    \n",
    "    X= dataset.iloc[:,0:4]\n",
    "\n",
    "    Y=dataset.iloc[:,4]\n",
    "    \n",
    "    model_DT =  DecisionTreeClassifier()\n",
    "    rfe = RFE(model_DT,4)\n",
    "    rfe= rfe.fit(X,Y)\n",
    "    \n",
    "    # build the model \n",
    "    rfe= rfe.fit_transform(X, Y)\n",
    "\n",
    "    xtrain_1,xtest_1,ytrain_1,ytest_1=train_test_split(rfe,Y,test_size=0.2,random_state=123,stratify=Y)\n",
    " \n",
    "    model_DT= model_DT.fit(xtrain_1,ytrain_1)\n",
    "    prediction_DT= model_DT.predict(xtest_1)\n",
    "\n",
    "    scores_DT = cross_val_score(model_DT, xtrain_1, ytrain_1, cv=10, scoring='accuracy')*100\n",
    "     \n",
    "    Autsm_Level = int(AutsmLevel)  \n",
    "    Iq_Level = int(IqLevel)  \n",
    "    age_ = int(age)  \n",
    "    Perception_ = int(Perception)  \n",
    "        \n",
    "    Xnew = [[Autsm_Level,Iq_Level,age_,Perception_]] \n",
    "\n",
    "    # make a prediction\n",
    "    ynew = model_DT.predict(Xnew)\n",
    "    print(\"X=%s, Predicted=%s\" % (Xnew[0], ynew[0]))  \n",
    "    return ynew[0]\n",
    " "
   ]
  },
  {
   "cell_type": "code",
   "execution_count": 7,
   "id": "compatible-cartridge",
   "metadata": {},
   "outputs": [
    {
     "name": "stdout",
     "output_type": "stream",
     "text": [
      "X=[1, 90, 8, 1], Predicted=0\n"
     ]
    },
    {
     "name": "stderr",
     "output_type": "stream",
     "text": [
      "c:\\python380\\lib\\site-packages\\sklearn\\utils\\validation.py:70: FutureWarning: Pass n_features_to_select=4 as keyword args. From version 1.0 (renaming of 0.25) passing these as positional arguments will result in an error\n",
      "  warnings.warn(f\"Pass {args_msg} as keyword args. From version \"\n"
     ]
    },
    {
     "data": {
      "text/plain": [
       "0"
      ]
     },
     "execution_count": 7,
     "metadata": {},
     "output_type": "execute_result"
    }
   ],
   "source": [
    "main(1, 90, 8, 1)"
   ]
  },
  {
   "cell_type": "code",
   "execution_count": null,
   "id": "established-reporter",
   "metadata": {},
   "outputs": [],
   "source": []
  }
 ],
 "metadata": {
  "kernelspec": {
   "display_name": "Python 3",
   "language": "python",
   "name": "python3"
  },
  "language_info": {
   "codemirror_mode": {
    "name": "ipython",
    "version": 3
   },
   "file_extension": ".py",
   "mimetype": "text/x-python",
   "name": "python",
   "nbconvert_exporter": "python",
   "pygments_lexer": "ipython3",
   "version": "3.8.0"
  }
 },
 "nbformat": 4,
 "nbformat_minor": 5
}
